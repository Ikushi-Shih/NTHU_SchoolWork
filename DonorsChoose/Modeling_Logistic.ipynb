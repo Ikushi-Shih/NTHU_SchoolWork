{
 "cells": [
  {
   "cell_type": "code",
   "execution_count": 1,
   "metadata": {},
   "outputs": [
    {
     "name": "stderr",
     "output_type": "stream",
     "text": [
      "/usr/local/lib/python3.6/site-packages/IPython/core/interactiveshell.py:2728: DtypeWarning: Columns (11,12) have mixed types. Specify dtype option on import or set low_memory=False.\n",
      "  interactivity=interactivity, compiler=compiler, result=result)\n"
     ]
    },
    {
     "name": "stdout",
     "output_type": "stream",
     "text": [
      "Vectorization Runtime: 20.66 Minutes\n",
      "Label Encoder...\n"
     ]
    },
    {
     "name": "stderr",
     "output_type": "stream",
     "text": [
      " 17%|█▋        | 1/6 [00:08<00:40,  8.19s/it]"
     ]
    },
    {
     "name": "stdout",
     "output_type": "stream",
     "text": [
      "False\n"
     ]
    },
    {
     "name": "stderr",
     "output_type": "stream",
     "text": [
      "\r",
      " 33%|███▎      | 2/6 [00:09<00:18,  4.70s/it]"
     ]
    },
    {
     "name": "stdout",
     "output_type": "stream",
     "text": [
      "False\n"
     ]
    },
    {
     "name": "stderr",
     "output_type": "stream",
     "text": [
      "\r",
      " 50%|█████     | 3/6 [00:10<00:10,  3.44s/it]"
     ]
    },
    {
     "name": "stdout",
     "output_type": "stream",
     "text": [
      "False\n"
     ]
    },
    {
     "name": "stderr",
     "output_type": "stream",
     "text": [
      "\r",
      " 67%|██████▋   | 4/6 [00:11<00:05,  2.85s/it]"
     ]
    },
    {
     "name": "stdout",
     "output_type": "stream",
     "text": [
      "False\n"
     ]
    },
    {
     "name": "stderr",
     "output_type": "stream",
     "text": [
      "\r",
      " 83%|████████▎ | 5/6 [00:12<00:02,  2.49s/it]"
     ]
    },
    {
     "name": "stdout",
     "output_type": "stream",
     "text": [
      "False\n"
     ]
    },
    {
     "name": "stderr",
     "output_type": "stream",
     "text": [
      "\r",
      "100%|██████████| 6/6 [00:13<00:00,  2.26s/it]"
     ]
    },
    {
     "name": "stdout",
     "output_type": "stream",
     "text": [
      "False\n"
     ]
    },
    {
     "name": "stderr",
     "output_type": "stream",
     "text": [
      "\n"
     ]
    }
   ],
   "source": [
    "import pandas as pd\n",
    "import numpy as np\n",
    "\n",
    "df = pd.read_csv('Data/Ultimate.csv')\n",
    "train = pd.read_csv(\"Data/train.csv\", parse_dates=[\"project_submitted_datetime\"])\n",
    "test = pd.read_csv(\"Data/test.csv\", parse_dates=[\"project_submitted_datetime\"])\n",
    "\n",
    "#df.to_csv('Data/Ultimate.csv',index = False)\n",
    "\n",
    "tfidf_para = {\n",
    "    \"sublinear_tf\":True,\n",
    "    \"strip_accents\":'unicode',\n",
    "    \"stop_words\":\"english\",\n",
    "    \"analyzer\":'word',\n",
    "    \"token_pattern\":r'\\w{1,}',\n",
    "    #\"ngram_range\":(1,1),\n",
    "    \"dtype\":np.float32,\n",
    "    \"norm\":'l2',\n",
    "    \"min_df\":5,\n",
    "    \"max_df\":.9,\n",
    "    \"smooth_idf\":False\n",
    "}\n",
    "\n",
    "# Thanks To\n",
    "# https://www.kaggle.com/lopuhin/eli5-for-mercari\n",
    "# https://www.kaggle.com/jagangupta/understanding-approval-donorschoose-eda-fe-eli5/notebook\n",
    "from sklearn.pipeline import FeatureUnion\n",
    "from sklearn.feature_extraction.text import CountVectorizer, TfidfVectorizer\n",
    "def get_col(col_name):\n",
    "    return lambda x: x[col_name]\n",
    "\n",
    "df[\"project_title_count\"] = df[\"project_title\"].copy()\n",
    "textcols = [\"text\",\"project_resource_summary\",\"project_title\", \"project_title_count\",\"resource_description\"]\n",
    "vectorizer = FeatureUnion([\n",
    "        ('text',TfidfVectorizer(\n",
    "            ngram_range=(1, 2),\n",
    "            max_features=20000,\n",
    "            **tfidf_para,\n",
    "            preprocessor=get_col('text'))),\n",
    "        ('project_resource_summary',TfidfVectorizer(\n",
    "            ngram_range=(1, 2),\n",
    "            **tfidf_para,\n",
    "            max_features=2000,\n",
    "            preprocessor=get_col('project_resource_summary'))),\n",
    "        ('project_title',TfidfVectorizer(\n",
    "            ngram_range=(1, 2),\n",
    "            **tfidf_para,\n",
    "            max_features=1500,\n",
    "            preprocessor=get_col('project_title'))),\n",
    "        ('project_title_count',CountVectorizer(\n",
    "            ngram_range=(1, 2),\n",
    "            max_features=1500,\n",
    "            preprocessor=get_col('project_title_count'))),\n",
    "        ('resource_description',TfidfVectorizer(\n",
    "            ngram_range=(1, 2),\n",
    "            **tfidf_para,\n",
    "            max_features=2400,\n",
    "            preprocessor=get_col('resource_description'))),\n",
    "#         ('Non_text',DictVectorizer())\n",
    "    ])\n",
    "\n",
    "from sklearn.feature_extraction.text import CountVectorizer, TfidfVectorizer\n",
    "import time\n",
    "for c in textcols:\n",
    "    df[c] = df[c].astype(str)\n",
    "start_vect=time.time()\n",
    "ready_df = vectorizer.fit_transform(df.to_dict('records'))\n",
    "tfvocab = vectorizer.get_feature_names()\n",
    "print(\"Vectorization Runtime: %0.2f Minutes\"%((time.time() - start_vect)/60))\n",
    "\n",
    "from sklearn.preprocessing import LabelEncoder\n",
    "import gc\n",
    "print('Label Encoder...')\n",
    "cols = [\n",
    "    'teacher_id', \n",
    "    'teacher_prefix', \n",
    "    'school_state', \n",
    "    'project_grade_category', \n",
    "    'project_subject_categories', \n",
    "    'project_subject_subcategories'\n",
    "]\n",
    "from tqdm import tqdm\n",
    "for c in tqdm(cols):\n",
    "    le = LabelEncoder()\n",
    "    le.fit(df[c].astype(str))\n",
    "    df[c] = le.transform(df[c].astype(str))\n",
    "    print(df[c].isna().any())\n",
    "del le\n",
    "gc.collect()\n",
    "\n",
    "final_test = df[df.project_is_approved.isnull()]\n",
    "traindex = list(set(df.index) - set(final_test.index))\n",
    "#testdex = list(set(df.index) - set(traindex))\n",
    "to_drop = ['id','project_essay_1','project_essay_2','project_essay_3','project_essay_4',\n",
    "           'project_resource_summary','project_submitted_datetime','project_title','resource_description',\n",
    "          'text','project_is_approved',\"project_title_count\"]\n",
    "\n",
    "final_test = final_test.drop(columns=to_drop)\n",
    "x = df.loc[traindex,:].drop(columns=to_drop)\n",
    "y = df.loc[traindex,'project_is_approved']\n",
    "\n",
    "from scipy.sparse import hstack, csr_matrix\n",
    "x = hstack([csr_matrix(x.values),ready_df[0:182080]])\n",
    "final_test = hstack([csr_matrix(final_test.values),ready_df[182080:]])\n",
    "\n",
    "x = x.tocsr()\n",
    "final_test = final_test.tocsr()\n",
    "\n",
    "#from sklearn.model_selection import train_test_split\n",
    "#x_train, x_test, y_train, y_test = train_test_split(x, y, test_size=0.2, random_state=42)"
   ]
  },
  {
   "cell_type": "code",
   "execution_count": 19,
   "metadata": {},
   "outputs": [
    {
     "name": "stdout",
     "output_type": "stream",
     "text": [
      "project_grade_category                                                                                  False\n",
      "project_subject_categories                                                                              False\n",
      "project_subject_subcategories                                                                           False\n",
      "school_state                                                                                            False\n",
      "teacher_id                                                                                              False\n",
      "teacher_number_of_previously_posted_projects                                                            False\n",
      "teacher_prefix                                                                                          False\n",
      "items                                                                                                   False\n",
      "quantity                                                                                                False\n",
      "price                                                                                                   False\n",
      "total_price                                                                                             False\n",
      "min_quantity                                                                                            False\n",
      "min_total_price                                                                                         False\n",
      "max_quantity                                                                                            False\n",
      "max_price                                                                                               False\n",
      "max_total_price                                                                                         False\n",
      "mean_quantity                                                                                           False\n",
      "mean_price                                                                                              False\n",
      "mean_total_price                                                                                        False\n",
      "std_quantity                                                                                            False\n",
      "std_price                                                                                               False\n",
      "std_total_price                                                                                         False\n",
      "Year                                                                                                    False\n",
      "Month                                                                                                   False\n",
      "Weekday                                                                                                 False\n",
      "Hour                                                                                                    False\n",
      "Month_Day                                                                                               False\n",
      "Year_Day                                                                                                False\n",
      "essay1_len                                                                                              False\n",
      "essay2_len                                                                                              False\n",
      "                                                                                                        ...  \n",
      "price_meanPrice_poly                                                                                    False\n",
      "priceAll_avgPrice_poly                                                                                  False\n",
      "priceAll_maxPriceAll_poly                                                                               False\n",
      "priceAll_meanPrice_poly                                                                                 False\n",
      "priceAll_meanPriceAll_poly                                                                              False\n",
      "avgPrice_maxPrice_poly                                                                                  False\n",
      "minQuantity_n_project_essay_2_poly                                                                      False\n",
      "minQuantity_project_essay_2_NN_poly                                                                     False\n",
      "maxPrice_meanPrice_poly                                                                                 False\n",
      "resource_description_\\(_project_resource_summary_NNS_poly                                               False\n",
      "resource_description_-_n_project_essay_2_poly                                                           False\n",
      "resource_description_-_project_essay_2_NN_poly                                                          False\n",
      "resource_description_\\._resource_description_NNS_poly                                                   False\n",
      "resource_description_,_project_essay_2_NN_poly                                                          False\n",
      "resource_description_,_project_essay_2_project_resource_summary_common_poly                             False\n",
      "resource_description_/_project_essay_2_DT_poly                                                          False\n",
      "resource_description_/_project_essay_2_IN_poly                                                          False\n",
      "resource_description_/_project_essay_2_MD_poly                                                          False\n",
      "resource_description_/_project_essay_2_VB_poly                                                          False\n",
      "resource_description_/_resource_description_VBG_poly                                                    False\n",
      "n_project_essay_2_resource_description_CD_poly                                                          False\n",
      "n_project_resource_summary_project_essay_2_project_resource_summary_common_poly                         False\n",
      "project_essay_2_DT_resource_description_VBD_poly                                                        False\n",
      "project_essay_2_IN_resource_description_VBD_poly                                                        False\n",
      "project_essay_2_NN_resource_description_CD_poly                                                         False\n",
      "project_essay_2_VB_resource_description_VBD_poly                                                        False\n",
      "project_resource_summary_CD_project_essay_2_project_resource_summary_common_poly                        False\n",
      "resource_description_CD_project_essay_2_project_resource_summary_common_poly                            False\n",
      "resource_description_NNS_resource_description_NNPS_poly                                                 False\n",
      "project_essay_1_project_resource_summary_common_project_essay_2_project_resource_summary_common_poly    False\n",
      "Length: 430, dtype: bool\n"
     ]
    }
   ],
   "source": [
    "final_test = df[df.project_is_approved.isnull()]\n",
    "final_test = final_test.drop(columns=to_drop)\n",
    "x = df.loc[traindex,:].drop(columns=to_drop)\n",
    "y = df.loc[traindex,'project_is_approved']\n",
    "x = x.fillna(0)\n",
    "final_test = final_test.fillna(0)\n",
    "print(x.isna().any())\n",
    "\n",
    "from scipy.sparse import hstack, csr_matrix\n",
    "x = hstack([csr_matrix(x.values),ready_df[0:182080]])\n",
    "final_test = hstack([csr_matrix(final_test.values),ready_df[182080:]])\n",
    "\n",
    "x = x.tocsr()\n",
    "final_test = final_test.tocsr()"
   ]
  },
  {
   "cell_type": "code",
   "execution_count": 36,
   "metadata": {},
   "outputs": [
    {
     "name": "stdout",
     "output_type": "stream",
     "text": [
      "0.7484147120646357\n"
     ]
    }
   ],
   "source": [
    "from sklearn.preprocessing import StandardScaler\n",
    "from sklearn.model_selection import train_test_split\n",
    "x_train, x_test, y_train, y_test = train_test_split(x, y, test_size=0.2, random_state=42)\n",
    "\n",
    "from sklearn.linear_model import LogisticRegression\n",
    "from sklearn.metrics import roc_curve, auc\n",
    "log_reg = LogisticRegression()\n",
    "log_reg.fit(x_train, y_train)\n",
    "\n",
    "reg = log_reg.predict_proba(x_test)\n",
    "\n",
    "k = pd.DataFrame(data = reg, columns=['0','1'])\n",
    "\n",
    "fpr, tpr, _ = metrics.roc_curve(y_test, k['1'])\n",
    "auc = metrics.auc(fpr, tpr)\n",
    "print(auc)"
   ]
  },
  {
   "cell_type": "code",
   "execution_count": 38,
   "metadata": {},
   "outputs": [
    {
     "name": "stdout",
     "output_type": "stream",
     "text": [
      "0.700622021384692\n"
     ]
    }
   ],
   "source": [
    "from sklearn import preprocessing\n",
    "from sklearn.model_selection import train_test_split\n",
    "x_scaled = preprocessing.scale(x,with_mean = False)\n",
    "x_train, x_test, y_train, y_test = train_test_split(x_scaled, y, test_size=0.2, random_state=42)\n",
    "\n",
    "from sklearn.linear_model import LogisticRegression\n",
    "from sklearn.metrics import roc_curve, auc\n",
    "log_reg = LogisticRegression()\n",
    "log_reg.fit(x_train, y_train)\n",
    "\n",
    "reg = log_reg.predict_proba(x_test)\n",
    "\n",
    "k = pd.DataFrame(data = reg, columns=['0','1'])\n",
    "\n",
    "fpr, tpr, _ = metrics.roc_curve(y_test, k['1'])\n",
    "auc = metrics.auc(fpr, tpr)\n",
    "print(auc)"
   ]
  },
  {
   "cell_type": "code",
   "execution_count": null,
   "metadata": {
    "collapsed": true
   },
   "outputs": [],
   "source": [
    "from sklearn.preprocessing import MaxAbsScaler\n",
    "from sklearn.model_selection import train_test_split\n",
    "scaler = MaxAbsScaler()\n",
    "x_train, x_test, y_train, y_test = train_test_split(preprcessing.fit_transform(x), y, test_size=0.2, random_state=42)\n",
    "\n",
    "from sklearn.linear_model import LogisticRegression\n",
    "from sklearn.metrics import roc_curve, auc\n",
    "log_reg = LogisticRegression()\n",
    "log_reg.fit(x_train, y_train)\n",
    "\n",
    "reg = log_reg.predict_proba(x_test)\n",
    "\n",
    "k = pd.DataFrame(data = reg, columns=['0','1'])\n",
    "\n",
    "fpr, tpr, _ = metrics.roc_curve(y_test, k['1'])\n",
    "auc = metrics.auc(fpr, tpr)\n",
    "print(auc)"
   ]
  },
  {
   "cell_type": "code",
   "execution_count": null,
   "metadata": {
    "collapsed": true
   },
   "outputs": [],
   "source": []
  }
 ],
 "metadata": {
  "kernelspec": {
   "display_name": "Python 3",
   "language": "python",
   "name": "python3"
  },
  "language_info": {
   "codemirror_mode": {
    "name": "ipython",
    "version": 3
   },
   "file_extension": ".py",
   "mimetype": "text/x-python",
   "name": "python",
   "nbconvert_exporter": "python",
   "pygments_lexer": "ipython3",
   "version": "3.6.3"
  },
  "varInspector": {
   "cols": {
    "lenName": 16,
    "lenType": 16,
    "lenVar": 40
   },
   "kernels_config": {
    "python": {
     "delete_cmd_postfix": "",
     "delete_cmd_prefix": "del ",
     "library": "var_list.py",
     "varRefreshCmd": "print(var_dic_list())"
    },
    "r": {
     "delete_cmd_postfix": ") ",
     "delete_cmd_prefix": "rm(",
     "library": "var_list.r",
     "varRefreshCmd": "cat(var_dic_list()) "
    }
   },
   "types_to_exclude": [
    "module",
    "function",
    "builtin_function_or_method",
    "instance",
    "_Feature"
   ],
   "window_display": false
  }
 },
 "nbformat": 4,
 "nbformat_minor": 2
}
