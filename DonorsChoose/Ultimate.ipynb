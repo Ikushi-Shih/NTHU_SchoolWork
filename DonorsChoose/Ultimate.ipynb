{
 "cells": [
  {
   "cell_type": "code",
   "execution_count": 2,
   "metadata": {},
   "outputs": [],
   "source": [
    "import pylab as pl # linear algebra + plots\n",
    "import pandas as pd # data processing, CSV file I/O (e.g. pd.read_csv)\n",
    "import re\n",
    "import gc\n",
    "import seaborn as sns\n",
    "from sklearn.preprocessing import LabelEncoder, OneHotEncoder\n",
    "from sklearn.feature_extraction.text import CountVectorizer, TfidfVectorizer\n",
    "from sklearn.metrics import roc_auc_score as auc\n",
    "from sklearn.model_selection import StratifiedKFold\n",
    "from collections import defaultdict, Counter\n",
    "from nltk.tag import pos_tag\n",
    "from nltk.corpus import stopwords\n",
    "from nltk.stem import PorterStemmer\n",
    "from textblob import TextBlob\n",
    "from scipy.stats import pearsonr\n",
    "from scipy.sparse import hstack\n",
    "from multiprocessing import Pool\n",
    "\n",
    "Ttr = pd.read_csv('Data/train.csv')\n",
    "Tts = pd.read_csv('Data/test.csv', low_memory=False)\n",
    "R = pd.read_csv('Data/resources.csv')"
   ]
  },
  {
   "cell_type": "code",
   "execution_count": 3,
   "metadata": {},
   "outputs": [],
   "source": [
    "# combine the tables into one\n",
    "target = 'project_is_approved'\n",
    "Ttr['tr'] = 1; Tts['tr'] = 0\n",
    "Ttr['ts'] = 0; Tts['ts'] = 1\n",
    "\n",
    "T = pd.concat((Ttr,Tts))\n",
    "\n",
    "T.loc[T.project_essay_4.isnull(), ['project_essay_4','project_essay_2']] = \\\n",
    "    T.loc[T.project_essay_4.isnull(), ['project_essay_2','project_essay_4']].values\n",
    "\n",
    "T[['project_essay_2','project_essay_3']] = T[['project_essay_2','project_essay_3']].fillna('')\n",
    "\n",
    "T['project_essay_1'] = T.apply(lambda row: ' '.join([str(row['project_essay_1']), \n",
    "                                                     str(row['project_essay_2'])]), axis=1)\n",
    "T['project_essay_2'] = T.apply(lambda row: ' '.join([str(row['project_essay_3']),\n",
    "                                                     str(row['project_essay_4'])]), axis=1)\n",
    "\n",
    "T = T.drop(['project_essay_3', 'project_essay_4'], axis=1)\n"
   ]
  },
  {
   "cell_type": "code",
   "execution_count": 4,
   "metadata": {},
   "outputs": [],
   "source": [
    "R['priceAll'] = R['quantity']*R['price']\n",
    "newR = R.groupby('id').agg({'description':'count',\n",
    "                            'quantity':'sum',\n",
    "                            'price':'sum',\n",
    "                            'priceAll':'sum'}).rename(columns={'description':'items'})\n",
    "newR['avgPrice'] = newR.priceAll / newR.quantity\n",
    "numFeatures = ['items', 'quantity', 'price', 'priceAll', 'avgPrice']\n",
    "\n",
    "for func in ['min', 'max', 'mean']:\n",
    "    newR = newR.join(R.groupby('id').agg({'quantity':func,\n",
    "                                          'price':func,\n",
    "                                          'priceAll':func}).rename(\n",
    "                                columns={'quantity':func+'Quantity',\n",
    "                                         'price':func+'Price',\n",
    "                                         'priceAll':func+'PriceAll'}).fillna(0))\n",
    "    numFeatures += [func+'Quantity', func+'Price', func+'PriceAll']\n",
    "\n",
    "newR = newR.join(R.groupby('id').agg({'description':lambda x:' '.join(x.values.astype(str))}).rename(\n",
    "    columns={'description':'resource_description'}))\n",
    "\n",
    "T = T.join(newR, on='id')\n",
    "\n",
    "del Ttr, Tts, R, newR\n",
    "gc.collect();"
   ]
  },
  {
   "cell_type": "code",
   "execution_count": 5,
   "metadata": {},
   "outputs": [],
   "source": [
    "le = LabelEncoder()\n",
    "T['teacher_id'] = le.fit_transform(T['teacher_id'])\n",
    "numFeatures += ['teacher_number_of_previously_posted_projects','teacher_id']\n",
    "\n",
    "statFeatures = []\n",
    "for col in ['school_state', 'teacher_id', 'teacher_prefix', 'project_grade_category', 'project_subject_categories', 'project_subject_subcategories', 'teacher_number_of_previously_posted_projects']:\n",
    "    Stat = T[['id', col]].groupby(col).agg('count').rename(columns={'id':col+'_stat'})\n",
    "    Stat /= Stat.sum()\n",
    "    T = T.join(Stat, on=col)\n",
    "    statFeatures.append(col+'_stat')"
   ]
  },
  {
   "cell_type": "code",
   "execution_count": 7,
   "metadata": {},
   "outputs": [
    {
     "name": "stdout",
     "output_type": "stream",
     "text": [
      "sentimental analysis\n",
      "key words\n",
      "num words\n",
      "word tags\n",
      "common words\n",
      "CPU times: user 8min 23s, sys: 1min 1s, total: 9min 25s\n",
      "Wall time: 1h 5min 56s\n"
     ]
    }
   ],
   "source": [
    "%%time\n",
    "textColumns = ['project_essay_1', 'project_essay_2', 'project_resource_summary', 'resource_description', 'project_title']\n",
    "\n",
    "def getSentFeat(s):\n",
    "    sent = TextBlob(s).sentiment\n",
    "    return (sent.polarity, sent.subjectivity)\n",
    "\n",
    "print('sentimental analysis')\n",
    "\n",
    "\n",
    "print('key words')\n",
    "KeyChars = ['!', '\\?', '@', '#', '\\$', '%', '&', '\\*', '\\(', '\\[', '\\{', '\\|', '-', '_', '=', '\\+',\n",
    "            '\\.', ':', ';', ',', '/', '\\\\\\\\r', '\\\\\\\\t', '\\\\\"', '\\.\\.\\.', 'etc', 'http']\n",
    "for col in textColumns:\n",
    "    for c in KeyChars:\n",
    "        T[col+'_'+c] = T[col].apply(lambda x: len(re.findall(c, x.lower())))\n",
    "        numFeatures.append(col+'_'+c)\n",
    "\n",
    "#####\n",
    "print('num words')\n",
    "for col in textColumns:\n",
    "    T['n_'+col] = T[col].apply(lambda x: len(x.split()))\n",
    "    numFeatures.append('n_'+col)\n",
    "\n",
    "#####\n",
    "print('word tags')\n",
    "Tags = ['CC', 'CD', 'DT', 'IN', 'JJ', 'LS', 'MD', 'NN', 'NNS', 'NNP', 'NNPS', \n",
    "        'PDT', 'POS', 'PRP', 'PRP$', 'RB', 'RBR', 'RBS', 'RP', 'SYM', 'TO', \n",
    "        'UH', 'VB', 'VBD', 'VBG', 'VBN', 'VBP', 'VBZ', 'WDT', 'WP', 'WP$', 'WRB']\n",
    "def getTagFeat(s):\n",
    "    d = Counter([t[1] for t in pos_tag(s.split())])\n",
    "    return [d[t] for t in Tags]\n",
    "\n",
    "with Pool(4) as p:\n",
    "    for col in textColumns:\n",
    "        temp = pl.array(list(p.map(getTagFeat, T[col])))\n",
    "        for i, t in enumerate(Tags):\n",
    "            if temp[:,i].sum() == 0:\n",
    "                continue\n",
    "            T[col+'_'+t] = temp[:, i]\n",
    "            numFeatures += [col+'_'+t]\n",
    "\n",
    "#####\n",
    "print('common words')\n",
    "for i, col1 in enumerate(textColumns[:-1]):\n",
    "    for col2 in textColumns[i+1:]:\n",
    "        T['%s_%s_common' % (col1, col2)] = T.apply(lambda row:len(set(re.split('\\W', row[col1])).intersection(re.split('\\W', row[col2]))), axis=1)\n",
    "        numFeatures.append('%s_%s_common' % (col1, col2))\n",
    "\n"
   ]
  },
  {
   "cell_type": "code",
   "execution_count": 9,
   "metadata": {},
   "outputs": [],
   "source": [
    "dateCol = 'project_submitted_datetime'\n",
    "def getTimeFeatures(T):\n",
    "    T['year'] = T[dateCol].apply(lambda x: x.year)\n",
    "    T['month'] = T[dateCol].apply(lambda x: x.month)\n",
    "    T['day'] = T[dateCol].apply(lambda x: x.day)\n",
    "    T['dow'] = T[dateCol].apply(lambda x: x.dayofweek)\n",
    "    T['hour'] = T[dateCol].apply(lambda x: x.hour)\n",
    "    T['days'] = (T[dateCol]-T[dateCol].min()).apply(lambda x: x.days)\n",
    "    return T\n",
    "\n",
    "T[dateCol] = pd.to_datetime(T[dateCol])\n",
    "T = getTimeFeatures(T)\n",
    "\n",
    "P_tar = T[T.tr==1][target].mean()\n",
    "timeFeatures = ['year', 'month', 'day', 'dow', 'hour', 'days']\n",
    "for col in timeFeatures:\n",
    "    Stat = T[['id', col]].groupby(col).agg('count').rename(columns={'id':col+'_stat'})\n",
    "    Stat /= Stat.sum()\n",
    "    T = T.join(Stat, on=col)\n",
    "    statFeatures.append(col+'_stat')\n",
    "\n",
    "numFeatures += timeFeatures\n",
    "numFeatures += statFeatures"
   ]
  },
  {
   "cell_type": "code",
   "execution_count": 10,
   "metadata": {},
   "outputs": [
    {
     "name": "stderr",
     "output_type": "stream",
     "text": [
      "/usr/local/lib/python3.6/site-packages/scipy/stats/stats.py:3000: RuntimeWarning: invalid value encountered in subtract\n",
      "  xm, ym = x - mx, y - my\n",
      "/usr/local/lib/python3.6/site-packages/scipy/stats/stats.py:3001: RuntimeWarning: invalid value encountered in reduce\n",
      "  r_num = np.add.reduce(xm * ym)\n",
      "/usr/local/lib/python3.6/site-packages/scipy/stats/stats.py:3003: RuntimeWarning: invalid value encountered in double_scalars\n",
      "  r = r_num / r_den\n",
      "/usr/local/lib/python3.6/site-packages/ipykernel_launcher.py:10: RuntimeWarning: Mean of empty slice\n",
      "  # Remove the CWD from sys.path while we load stuff.\n",
      "/usr/local/lib/python3.6/site-packages/ipykernel_launcher.py:11: RuntimeWarning: Mean of empty slice\n",
      "  # This is added back by InteractiveShellApp.init_path()\n"
     ]
    },
    {
     "name": "stdout",
     "output_type": "stream",
     "text": [
      "columns \t\t\t Corr1 \t\t Corr2 \t\t Corr Combined\n",
      "quantity_price \t\t(0.1133, 2.52442e-48)\t(0.0825278, 8.86382e-25)\t(0.141463, 1.54238e-73)\n",
      "price_avgPrice \t\t(0.0825278, 8.86382e-25)\t(0.0529284, 9.61872e-11)\t(0.194873, 1.93954e-147)\n",
      "price_maxQuantity \t\t(0.0825278, 8.86382e-25)\t(0.0171186, 0.102521)\t(0.109452, 1.30994e-41)\n",
      "price_meanPrice \t\t(0.0825278, 8.86382e-25)\t(0.0494913, 9.59655e-10)\t(0.196091, 6.29086e-150)\n",
      "priceAll_avgPrice \t\t(0.0482872, 1.61269e-07)\t(0.0529284, 9.61872e-11)\t(0.108635, 4.9114e-44)\n",
      "priceAll_maxPriceAll \t\t(0.0482872, 1.61269e-07)\t(0.0461969, 2.41348e-07)\t(0.174737, 1.00636e-114)\n",
      "priceAll_meanPrice \t\t(0.0482872, 1.61269e-07)\t(0.0494913, 9.59655e-10)\t(0.10563, 3.27763e-42)\n",
      "priceAll_meanPriceAll \t\t(0.0482872, 1.61269e-07)\t(0.0813926, 7.79207e-24)\t(0.195413, 6.2407e-149)\n",
      "avgPrice_maxPrice \t\t(0.0529284, 9.61872e-11)\t(0.059798, 1.51808e-13)\t(0.196227, 6.09872e-145)\n",
      "minQuantity_n_project_essay_2 \t\t(-0.135848, 8.13501e-67)\t(-0.093459, 1.09641e-29)\t(-0.171322, 1.93966e-113)\n",
      "minQuantity_project_essay_2_NN \t\t(-0.135848, 8.13501e-67)\t(-0.0847483, 1.41461e-24)\t(-0.168146, 2.0377e-101)\n",
      "maxPrice_meanPrice \t\t(0.059798, 1.51808e-13)\t(0.0494913, 9.59655e-10)\t(0.199882, 2.76659e-151)\n"
     ]
    },
    {
     "name": "stderr",
     "output_type": "stream",
     "text": [
      "/usr/local/lib/python3.6/site-packages/ipykernel_launcher.py:29: RuntimeWarning: Mean of empty slice\n"
     ]
    },
    {
     "name": "stdout",
     "output_type": "stream",
     "text": [
      "resource_description_\\(_project_resource_summary_NNS \t\t(0.0525535, 1.19256e-06)\t(0.052544, 4.53083e-09)\t(0.0730806, 1.77224e-14)\n",
      "resource_description_-_n_project_essay_2 \t\t(-0.150014, 7.65456e-81)\t(-0.093459, 1.09641e-29)\t(-0.173629, 9.29776e-103)\n",
      "resource_description_-_project_essay_2_NN \t\t(-0.150014, 7.65456e-81)\t(-0.0847483, 1.41461e-24)\t(-0.177702, 2.13644e-111)\n",
      "resource_description_\\._resource_description_NNS \t\t(0.0909247, 2.39148e-27)\t(0.0890114, 2.15641e-25)\t(0.112269, 1.89905e-42)\n",
      "resource_description_,_project_essay_2_NN \t\t(-0.0900705, 6.14321e-24)\t(-0.0847483, 1.41461e-24)\t(-0.114858, 1.3584e-41)\n",
      "resource_description_,_project_essay_2_project_resource_summary_common \t\t(-0.0900705, 6.14321e-24)\t(-0.0734123, 1.08089e-16)\t(-0.110717, 9.40602e-37)\n",
      "resource_description_/_project_essay_2_DT \t\t(0.0730306, 1.00223e-17)\t(0.0681042, 3.8943e-14)\t(0.0969172, 1.94542e-32)\n",
      "resource_description_/_project_essay_2_IN \t\t(0.0730306, 1.00223e-17)\t(0.0655694, 3.87812e-16)\t(0.0944826, 8.17636e-33)\n",
      "resource_description_/_project_essay_2_MD \t\t(0.0730306, 1.00223e-17)\t(0.0743985, 1.65604e-13)\t(0.0974845, 2.74271e-30)\n",
      "resource_description_/_project_essay_2_VB \t\t(0.0730306, 1.00223e-17)\t(0.0701042, 8.81161e-18)\t(0.0965526, 1.25738e-32)\n",
      "resource_description_/_resource_description_VBG \t\t(0.0730306, 1.00223e-17)\t(0.0739148, 1.49896e-17)\t(0.0951851, 1.86567e-29)\n",
      "n_project_essay_2_resource_description_CD \t\t(-0.093459, 1.09641e-29)\t(-0.115008, 2.4803e-44)\t(-0.140673, 4.80581e-66)\n",
      "n_project_resource_summary_project_essay_2_project_resource_summary_common \t\t(-0.0338557, 0.00329785)\t(-0.0734123, 1.08089e-16)\t(-0.13814, 1.25426e-59)\n",
      "project_essay_2_DT_resource_description_VBD \t\t(0.0681042, 3.8943e-14)\t(0.0649261, 5.96553e-11)\t(0.089916, 2.95631e-26)\n",
      "project_essay_2_IN_resource_description_VBD \t\t(0.0655694, 3.87812e-16)\t(0.0649261, 5.96553e-11)\t(0.0869339, 1.72478e-25)\n",
      "project_essay_2_NN_resource_description_CD \t\t(-0.0847483, 1.41461e-24)\t(-0.115008, 2.4803e-44)\t(-0.144318, 1.00816e-72)\n",
      "project_essay_2_VB_resource_description_VBD \t\t(0.0701042, 8.81161e-18)\t(0.0649261, 5.96553e-11)\t(0.0915767, 1.27783e-29)\n",
      "project_resource_summary_CD_project_essay_2_project_resource_summary_common \t\t(-0.0629719, 3.61516e-12)\t(-0.0734123, 1.08089e-16)\t(-0.0990464, 6.83331e-35)\n",
      "resource_description_CD_project_essay_2_project_resource_summary_common \t\t(-0.115008, 2.4803e-44)\t(-0.0734123, 1.08089e-16)\t(-0.135505, 4.55759e-62)\n",
      "resource_description_NNS_resource_description_NNPS \t\t(0.0890114, 2.15641e-25)\t(0.0884201, 8.85148e-23)\t(0.110043, 2.67409e-38)\n",
      "project_essay_1_project_resource_summary_common_project_essay_2_project_resource_summary_common \t\t(-0.0279507, 0.000969431)\t(-0.0734123, 1.08089e-16)\t(-0.102967, 5.41216e-38)\n",
      "382\n",
      "CPU times: user 6min 29s, sys: 39.3 s, total: 7min 9s\n",
      "Wall time: 7min 29s\n"
     ]
    }
   ],
   "source": [
    "%%time\n",
    "T2 = T[numFeatures+['id','tr','ts',target]].copy()\n",
    "Ttr = T2[T.tr==1]\n",
    "Tar_tr = Ttr[target].values\n",
    "n = 10\n",
    "inx = [pl.randint(0, Ttr.shape[0], int(Ttr.shape[0]/n)) for k in range(n)]\n",
    "# inx is used for crossvalidation of calculating the correlation and p-value\n",
    "Corr = {}\n",
    "for c in numFeatures:\n",
    "    # since some values might be 0s, I use x+1 to avoid missing some important relations\n",
    "    C1,P1=pl.nanmean([pearsonr(Tar_tr[inx[k]],   (1+Ttr[c].iloc[inx[k]])) for k in range(n)], 0)\n",
    "    C2,P2=pl.nanmean([pearsonr(Tar_tr[inx[k]], 1/(1+Ttr[c].iloc[inx[k]])) for k in range(n)], 0)\n",
    "    if P2<P1:\n",
    "        T2[c] = 1/(1+T2[c])\n",
    "        Corr[c] = [C2,P2]\n",
    "    else:\n",
    "        T2[c] = 1+T2[c]\n",
    "        Corr[c] = [C1,P1]\n",
    "\n",
    "polyCol = []\n",
    "thrP = 0.01\n",
    "thrC = 0.02\n",
    "print('columns \\t\\t\\t Corr1 \\t\\t Corr2 \\t\\t Corr Combined')\n",
    "for i, c1 in enumerate(numFeatures[:-1]):\n",
    "    C1, P1 = Corr[c1]\n",
    "    for c2 in numFeatures[i+1:]:\n",
    "        C2, P2 = Corr[c2]\n",
    "        V = T2[c1] * T2[c2]\n",
    "        Vtr = V[T2.tr==1].values\n",
    "        C, P = pl.nanmean([pearsonr(Tar_tr[inx[k]], Vtr[inx[k]]) for k in range(n)], 0)\n",
    "        if P<thrP and abs(C) - max(abs(C1),abs(C2)) > thrC:\n",
    "            T[c1+'_'+c2+'_poly'] = V\n",
    "            polyCol.append(c1+'_'+c2+'_poly')\n",
    "            print(c1+'_'+c2, '\\t\\t(%g, %g)\\t(%g, %g)\\t(%g, %g)'%(C1,P1, C2,P2, C,P))\n",
    "\n",
    "numFeatures += polyCol\n",
    "print(len(numFeatures))\n",
    "del T2, Ttr\n",
    "gc.collect();"
   ]
  },
  {
   "cell_type": "code",
   "execution_count": 11,
   "metadata": {},
   "outputs": [],
   "source": [
    "T.to_csv('T_XT.csv',index = False)"
   ]
  },
  {
   "cell_type": "code",
   "execution_count": null,
   "metadata": {},
   "outputs": [],
   "source": []
  }
 ],
 "metadata": {
  "kernelspec": {
   "display_name": "Python 3",
   "language": "python",
   "name": "python3"
  },
  "language_info": {
   "codemirror_mode": {
    "name": "ipython",
    "version": 3
   },
   "file_extension": ".py",
   "mimetype": "text/x-python",
   "name": "python",
   "nbconvert_exporter": "python",
   "pygments_lexer": "ipython3",
   "version": "3.6.4"
  },
  "varInspector": {
   "cols": {
    "lenName": 16,
    "lenType": 16,
    "lenVar": 40
   },
   "kernels_config": {
    "python": {
     "delete_cmd_postfix": "",
     "delete_cmd_prefix": "del ",
     "library": "var_list.py",
     "varRefreshCmd": "print(var_dic_list())"
    },
    "r": {
     "delete_cmd_postfix": ") ",
     "delete_cmd_prefix": "rm(",
     "library": "var_list.r",
     "varRefreshCmd": "cat(var_dic_list()) "
    }
   },
   "types_to_exclude": [
    "module",
    "function",
    "builtin_function_or_method",
    "instance",
    "_Feature"
   ],
   "window_display": false
  }
 },
 "nbformat": 4,
 "nbformat_minor": 2
}
