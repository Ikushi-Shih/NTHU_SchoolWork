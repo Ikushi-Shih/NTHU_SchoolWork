{
 "cells": [
  {
   "cell_type": "code",
   "execution_count": 10,
   "metadata": {},
   "outputs": [
    {
     "name": "stdout",
     "output_type": "stream",
     "text": [
      "[1.1947180446167059e-09, 3.590191382698521e-09, 7.062683801881151e-09, 1.1947180446167059e-09, 1.4460157482908962e-09]\n",
      "id\n",
      "p233245    0.886417\n",
      "p096795    0.856727\n",
      "p236235    0.856272\n",
      "p233680    0.846898\n",
      "p171879    0.865223\n",
      "Name: project_is_approved, dtype: float64\n"
     ]
    }
   ],
   "source": [
    "# This Python 3 environment comes with many helpful analytics libraries installed\n",
    "# It is defined by the kaggle/python docker image: https://github.com/kaggle/docker-python\n",
    "# For example, here's several helpful packages to load in \n",
    "\n",
    "# Originally-originaly-originally\n",
    "# many time originally it is fork from\n",
    "# https://www.kaggle.com/matthewa313/ensembling-with-logistic-regression-lb-81-7\n",
    "\n",
    "import pandas as pd\n",
    "import numpy  as np\n",
    "from scipy.special import expit, logit\n",
    " \n",
    "almost_zero = 1e-5 # 0.00001\n",
    "almost_one  = 1-almost_zero # 0.99999\n",
    "\n",
    "# Input data files are available in the \"../input/\" directory.\n",
    "# For example, running this (by clicking run or pressing Shift+Enter) will list the files in the input directory\n",
    "\n",
    "scores = {}\n",
    "\n",
    "# Gated Recurrent Unit + Convolutional Neural Network\n",
    "df = pd.read_csv(\"NLP.csv\",index_col=\"id\").rename(columns={'project_is_approved': 'NLP'}) # 0.80121\n",
    "scores[\"NLP\"] = 0.7959\n",
    "\n",
    "# \"The Choice is Yours\"\n",
    "# df[\"choice\"] = pd.read_csv(\"../input/the-choice-is-yours/blend_submission.csv\")['project_is_approved'].values # 0.793\n",
    "# scores[\"choice\"] = 0.793\n",
    "\n",
    "# LightGBM and TFIDF\n",
    "df[\"Lgbm_tf\"] = pd.read_csv(\"pred_LGB_LR_005.csv\")['project_is_approved'].values # 0.7947\n",
    "scores[\"Lgbm_tf\"] = 0.80569\n",
    "\n",
    "\n",
    "# Gated Reccurrent Unit + ATT with LGBM, TFIDF + EDA\n",
    "df[\"grnn_Att_lgbm\"] = pd.read_csv(\"GRU.csv\")['project_is_approved'].values # 0.81177\n",
    "scores[\"grnn_Att_lgbm\"] = 0.81177\n",
    "\n",
    "# Capsule Networks\n",
    "df[\"capnet\"] = pd.read_csv(\"Capsule.csv\")['project_is_approved'].values # 0.79590\n",
    "scores[\"capnet\"] = 0.79590\n",
    "\n",
    "\n",
    "# PoWER 64 #best\n",
    "df[\"LogReg\"] = pd.read_csv(\"pred_LogReg.csv\")['project_is_approved'].values # 0.81829\n",
    "scores[\"LogReg\"] = 0.79759\n",
    "\n",
    "# More NN..\n",
    "# Add https://www.kaggle.com/emotionevil/nlp-and-stacking-starter-dpcnn-lgb-lb0-80/notebook\n",
    "\n",
    "weights = [0] * len(df.columns)\n",
    "power = 90\n",
    "dic = {}\n",
    "\n",
    "for i,col in enumerate(df.columns):\n",
    "    weights[i] = scores[col] ** power\n",
    "    dic[i] = df[col].clip(almost_zero,almost_one).apply(logit) * weights[i] \n",
    "    \n",
    "print(weights[:])\n",
    "totalweight = sum(weights)\n",
    "\n",
    "temp = []\n",
    "for x in dic:\n",
    "    if x == 0:\n",
    "        temp = dic[x]\n",
    "    else:\n",
    "        temp = temp+dic[x]\n",
    "\n",
    "temp = temp/(totalweight)\n",
    "\n",
    "df[\"project_is_approved\"] = temp\n",
    "df[\"project_is_approved\"] = df[\"project_is_approved\"].apply(expit)\n",
    "df[\"project_is_approved\"].to_csv(\"ensembling_submission_0422.csv\", index=True, header=True)\n",
    "print(df[\"project_is_approved\"].head())"
   ]
  },
  {
   "cell_type": "code",
   "execution_count": null,
   "metadata": {
    "collapsed": true
   },
   "outputs": [],
   "source": []
  }
 ],
 "metadata": {
  "kernelspec": {
   "display_name": "Python 3",
   "language": "python",
   "name": "python3"
  },
  "language_info": {
   "codemirror_mode": {
    "name": "ipython",
    "version": 3
   },
   "file_extension": ".py",
   "mimetype": "text/x-python",
   "name": "python",
   "nbconvert_exporter": "python",
   "pygments_lexer": "ipython3",
   "version": "3.6.3"
  },
  "varInspector": {
   "cols": {
    "lenName": 16,
    "lenType": 16,
    "lenVar": 40
   },
   "kernels_config": {
    "python": {
     "delete_cmd_postfix": "",
     "delete_cmd_prefix": "del ",
     "library": "var_list.py",
     "varRefreshCmd": "print(var_dic_list())"
    },
    "r": {
     "delete_cmd_postfix": ") ",
     "delete_cmd_prefix": "rm(",
     "library": "var_list.r",
     "varRefreshCmd": "cat(var_dic_list()) "
    }
   },
   "types_to_exclude": [
    "module",
    "function",
    "builtin_function_or_method",
    "instance",
    "_Feature"
   ],
   "window_display": false
  }
 },
 "nbformat": 4,
 "nbformat_minor": 2
}
