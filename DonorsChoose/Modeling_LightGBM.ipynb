{
 "cells": [
  {
   "cell_type": "code",
   "execution_count": null,
   "metadata": {},
   "outputs": [
    {
     "name": "stderr",
     "output_type": "stream",
     "text": [
      "C:\\Users\\xd944\\Anaconda3\\lib\\site-packages\\IPython\\core\\interactiveshell.py:2698: DtypeWarning: Columns (11,12) have mixed types. Specify dtype option on import or set low_memory=False.\n",
      "  interactivity=interactivity, compiler=compiler, result=result)\n"
     ]
    }
   ],
   "source": [
    "import pandas as pd\n",
    "import numpy as np\n",
    "\n",
    "df = pd.read_csv('Data/Ultimate.csv')\n",
    "train = pd.read_csv(\"Data/train.csv\", parse_dates=[\"project_submitted_datetime\"])\n",
    "test = pd.read_csv(\"Data/test.csv\", parse_dates=[\"project_submitted_datetime\"])\n",
    "\n",
    "#df.to_csv('Data/Ultimate.csv',index = False)\n",
    "\n",
    "tfidf_para = {\n",
    "    \"sublinear_tf\":True,\n",
    "    \"strip_accents\":'unicode',\n",
    "    \"stop_words\":\"english\",\n",
    "    \"analyzer\":'word',\n",
    "    \"token_pattern\":r'\\w{1,}',\n",
    "    #\"ngram_range\":(1,1),\n",
    "    \"dtype\":np.float32,\n",
    "    \"norm\":'l2',\n",
    "    \"min_df\":5,\n",
    "    \"max_df\":.9,\n",
    "    \"smooth_idf\":False\n",
    "}\n",
    "\n",
    "# Thanks To\n",
    "# https://www.kaggle.com/lopuhin/eli5-for-mercari\n",
    "# https://www.kaggle.com/jagangupta/understanding-approval-donorschoose-eda-fe-eli5/notebook\n",
    "from sklearn.pipeline import FeatureUnion\n",
    "from sklearn.feature_extraction.text import CountVectorizer, TfidfVectorizer\n",
    "def get_col(col_name):\n",
    "    return lambda x: x[col_name]\n",
    "\n",
    "df[\"project_title_count\"] = df[\"project_title\"].copy()\n",
    "textcols = [\"text\",\"project_resource_summary\",\"project_title\", \"project_title_count\",\"resource_description\"]\n",
    "vectorizer = FeatureUnion([\n",
    "        ('text',TfidfVectorizer(\n",
    "            ngram_range=(1, 2),\n",
    "            max_features=20000,\n",
    "            **tfidf_para,\n",
    "            preprocessor=get_col('text'))),\n",
    "        ('project_resource_summary',TfidfVectorizer(\n",
    "            ngram_range=(1, 2),\n",
    "            **tfidf_para,\n",
    "            max_features=2000,\n",
    "            preprocessor=get_col('project_resource_summary'))),\n",
    "        ('project_title',TfidfVectorizer(\n",
    "            ngram_range=(1, 2),\n",
    "            **tfidf_para,\n",
    "            max_features=1500,\n",
    "            preprocessor=get_col('project_title'))),\n",
    "        ('project_title_count',CountVectorizer(\n",
    "            ngram_range=(1, 2),\n",
    "            max_features=1500,\n",
    "            preprocessor=get_col('project_title_count'))),\n",
    "        ('resource_description',TfidfVectorizer(\n",
    "            ngram_range=(1, 2),\n",
    "            **tfidf_para,\n",
    "            max_features=2400,\n",
    "            preprocessor=get_col('resource_description'))),\n",
    "#         ('Non_text',DictVectorizer())\n",
    "    ])\n",
    "\n",
    "from sklearn.feature_extraction.text import CountVectorizer, TfidfVectorizer\n",
    "import time\n",
    "for c in textcols:\n",
    "    df[c] = df[c].astype(str)\n",
    "start_vect=time.time()\n",
    "ready_df = vectorizer.fit_transform(df.to_dict('records'))\n",
    "tfvocab = vectorizer.get_feature_names()\n",
    "print(\"Vectorization Runtime: %0.2f Minutes\"%((time.time() - start_vect)/60))\n",
    "\n",
    "from sklearn.preprocessing import LabelEncoder\n",
    "import gc\n",
    "print('Label Encoder...')\n",
    "cols = [\n",
    "    'teacher_id', \n",
    "    'teacher_prefix', \n",
    "    'school_state', \n",
    "    'project_grade_category', \n",
    "    'project_subject_categories', \n",
    "    'project_subject_subcategories'\n",
    "]\n",
    "from tqdm import tqdm\n",
    "for c in tqdm(cols):\n",
    "    le = LabelEncoder()\n",
    "    le.fit(df[c].astype(str))\n",
    "    df[c] = le.transform(df[c].astype(str))\n",
    "    print(df[c].isna().any())\n",
    "del le\n",
    "gc.collect()\n",
    "\n",
    "final_test = df[df.project_is_approved.isnull()]\n",
    "traindex = list(set(df.index) - set(final_test.index))\n",
    "testdex = list(set(df.index) - set(traindex))\n",
    "to_drop = ['id','project_essay_1','project_essay_2','project_essay_3','project_essay_4',\n",
    "           'project_resource_summary','project_submitted_datetime','project_title','resource_description',\n",
    "          'text','project_is_approved',\"project_title_count\"]\n",
    "\n",
    "final_test = final_test.drop(columns=to_drop)\n",
    "x = df.loc[traindex,:].drop(columns=to_drop)\n",
    "y = df.loc[traindex,'project_is_approved']\n",
    "\n",
    "from scipy.sparse import hstack, csr_matrix\n",
    "x = hstack([csr_matrix(x.values),ready_df[0:182080]])\n",
    "final_test = hstack([csr_matrix(final_test.values),ready_df[182080:]])\n",
    "\n",
    "x = x.tocsr()\n",
    "final_test = final_test.tocsr()\n",
    "\n",
    "from sklearn.model_selection import train_test_split\n",
    "x_train, x_test, y_train, y_test = train_test_split(x, y, test_size=0.2, random_state=42)"
   ]
  },
  {
   "cell_type": "code",
   "execution_count": 5,
   "metadata": {},
   "outputs": [
    {
     "name": "stdout",
     "output_type": "stream",
     "text": [
      "Training until validation scores don't improve for 200 rounds.\n",
      "[100]\tvalid_0's auc: 0.781051\n",
      "[200]\tvalid_0's auc: 0.794002\n",
      "[300]\tvalid_0's auc: 0.797341\n",
      "[400]\tvalid_0's auc: 0.798377\n",
      "[500]\tvalid_0's auc: 0.799002\n",
      "[600]\tvalid_0's auc: 0.799463\n",
      "[700]\tvalid_0's auc: 0.799453\n",
      "[800]\tvalid_0's auc: 0.799205\n",
      "Early stopping, best iteration is:\n",
      "[663]\tvalid_0's auc: 0.79963\n"
     ]
    }
   ],
   "source": [
    "import lightgbm as lgb\n",
    "params = {\n",
    "        'boosting_type': 'gbdt',\n",
    "        'objective': 'binary',\n",
    "        'metric': 'auc',\n",
    "        'max_depth': 14,\n",
    "        'learning_rate': 0.05,\n",
    "        'feature_fraction': 0.25,\n",
    "        'bagging_fraction': 0.85,\n",
    "        'bagging_freq': 5,\n",
    "        'verbose': 0,\n",
    "        'num_threads': 1,\n",
    "        'lambda_l2': 1,\n",
    "        'min_gain_to_split': 0\n",
    "}\n",
    "model = lgb.train(\n",
    "            params,\n",
    "            lgb.Dataset(x_train, y_train),\n",
    "            num_boost_round=10000,\n",
    "            valid_sets=[lgb.Dataset(x_test, y_test)],\n",
    "            early_stopping_rounds=200,\n",
    "            verbose_eval=100)"
   ]
  },
  {
   "cell_type": "code",
   "execution_count": null,
   "metadata": {
    "collapsed": true
   },
   "outputs": [],
   "source": [
    "s = model.predict(final_test, num_iteration=model.best_iteration)\n",
    "d = {'id':test.id , 'project_is_approved':s}\n",
    "submission = pd.DataFrame(data = d)\n",
    "\n",
    "submission.to_csv('0420_LGB.csv',index = False)"
   ]
  }
 ],
 "metadata": {
  "kernelspec": {
   "display_name": "Python 3",
   "language": "python",
   "name": "python3"
  },
  "language_info": {
   "codemirror_mode": {
    "name": "ipython",
    "version": 3
   },
   "file_extension": ".py",
   "mimetype": "text/x-python",
   "name": "python",
   "nbconvert_exporter": "python",
   "pygments_lexer": "ipython3",
   "version": "3.6.3"
  },
  "varInspector": {
   "cols": {
    "lenName": 16,
    "lenType": 16,
    "lenVar": 40
   },
   "kernels_config": {
    "python": {
     "delete_cmd_postfix": "",
     "delete_cmd_prefix": "del ",
     "library": "var_list.py",
     "varRefreshCmd": "print(var_dic_list())"
    },
    "r": {
     "delete_cmd_postfix": ") ",
     "delete_cmd_prefix": "rm(",
     "library": "var_list.r",
     "varRefreshCmd": "cat(var_dic_list()) "
    }
   },
   "types_to_exclude": [
    "module",
    "function",
    "builtin_function_or_method",
    "instance",
    "_Feature"
   ],
   "window_display": false
  }
 },
 "nbformat": 4,
 "nbformat_minor": 2
}
