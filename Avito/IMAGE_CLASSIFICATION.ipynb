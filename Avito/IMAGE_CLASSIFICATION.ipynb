{
 "cells": [
  {
   "cell_type": "code",
   "execution_count": null,
   "metadata": {},
   "outputs": [
    {
     "name": "stderr",
     "output_type": "stream",
     "text": [
      "\n",
      "0it [00:00, ?it/s]\u001b[A"
     ]
    },
    {
     "name": "stdout",
     "output_type": "stream",
     "text": [
      "278168\n"
     ]
    },
    {
     "name": "stderr",
     "output_type": "stream",
     "text": [
      "\n",
      "Exception in thread Thread-4:\n",
      "Traceback (most recent call last):\n",
      "  File \"/usr/local/Cellar/python/3.6.4_4/Frameworks/Python.framework/Versions/3.6/lib/python3.6/threading.py\", line 916, in _bootstrap_inner\n",
      "    self.run()\n",
      "  File \"/Users/healer/src/tqdm/tqdm/_tqdm.py\", line 148, in run\n",
      "    for instance in self.tqdm_cls._instances:\n",
      "  File \"/usr/local/Cellar/python/3.6.4_4/Frameworks/Python.framework/Versions/3.6/lib/python3.6/_weakrefset.py\", line 60, in __iter__\n",
      "    for itemref in self.data:\n",
      "RuntimeError: Set changed size during iteration\n",
      "\n",
      "2148it [35:59,  1.01s/it]"
     ]
    }
   ],
   "source": [
    "import numpy as np # linear algebra\n",
    "import pandas as pd # data processing, CSV file I/O (e.g. pd.read_csv)\n",
    "\n",
    "# Input data files are available in the \"../input/\" directory.\n",
    "# For example, running this (by clicking run or pressing Shift+Enter) will list the files in the input directory\n",
    "\n",
    "import os\n",
    "import gc\n",
    "\n",
    "from keras.preprocessing import image\n",
    "import keras.applications.resnet50 as resnet50\n",
    "import keras.applications.xception as xception\n",
    "import keras.applications.inception_v3 as inception_v3\n",
    "import matplotlib.pyplot as plt\n",
    "#import seaborn as sns\n",
    "from PIL import Image\n",
    "\n",
    "resnet_model = resnet50.ResNet50(weights='imagenet')\n",
    "inception_model = inception_v3.InceptionV3(weights='imagenet')\n",
    "xception_model = xception.Xception(weights='imagenet')\n",
    "\n",
    "def NAME(file):\n",
    "    name = file.split('/')[-1].replace('.jpg','')\n",
    "    return [name]\n",
    "\n",
    "def image_classify(model, pak, img, top_n=3):\n",
    "    \"\"\"Classify image and return top matches.\"\"\"\n",
    "    target_size = (224, 224)\n",
    "    if img.size != target_size:\n",
    "        img = img.resize(target_size)\n",
    "    x = image.img_to_array(img)\n",
    "    x = np.expand_dims(x, axis=0)\n",
    "    x = pak.preprocess_input(x)\n",
    "    preds = model.predict(x)\n",
    "    return pak.decode_predictions(preds, top=top_n)[0]\n",
    "\n",
    "from tqdm import tqdm\n",
    "import zipfile\n",
    "df = list()\n",
    "with zipfile.ZipFile('train_jpg_0.zip', 'r') as train_zip:\n",
    "    files_in_zip = sorted(train_zip.namelist())\n",
    "    print(len(files_in_zip))\n",
    "    for idx, file in tqdm(enumerate(files_in_zip)):\n",
    "        if file.endswith('.jpg'):\n",
    "            name = NAME(file)\n",
    "            \n",
    "            img_data = train_zip.open(file)\n",
    "            img = Image.open(img_data)\n",
    "            \n",
    "            resnet_preds = image_classify(resnet_model, resnet50, img)\n",
    "            xception_preds = image_classify(xception_model, xception, img)\n",
    "            inception_preds = image_classify(inception_model, inception_v3, img)\n",
    "            \n",
    "            temp = name + resnet_preds + xception_preds + inception_preds\n",
    "            df.append(temp)\n",
    "            gc.collect()\n",
    "\n"
   ]
  },
  {
   "cell_type": "code",
   "execution_count": null,
   "metadata": {},
   "outputs": [],
   "source": []
  }
 ],
 "metadata": {
  "kernelspec": {
   "display_name": "Python 3",
   "language": "python",
   "name": "python3"
  },
  "language_info": {
   "codemirror_mode": {
    "name": "ipython",
    "version": 3
   },
   "file_extension": ".py",
   "mimetype": "text/x-python",
   "name": "python",
   "nbconvert_exporter": "python",
   "pygments_lexer": "ipython3",
   "version": "3.6.4"
  },
  "varInspector": {
   "cols": {
    "lenName": 16,
    "lenType": 16,
    "lenVar": 40
   },
   "kernels_config": {
    "python": {
     "delete_cmd_postfix": "",
     "delete_cmd_prefix": "del ",
     "library": "var_list.py",
     "varRefreshCmd": "print(var_dic_list())"
    },
    "r": {
     "delete_cmd_postfix": ") ",
     "delete_cmd_prefix": "rm(",
     "library": "var_list.r",
     "varRefreshCmd": "cat(var_dic_list()) "
    }
   },
   "types_to_exclude": [
    "module",
    "function",
    "builtin_function_or_method",
    "instance",
    "_Feature"
   ],
   "window_display": false
  }
 },
 "nbformat": 4,
 "nbformat_minor": 2
}
