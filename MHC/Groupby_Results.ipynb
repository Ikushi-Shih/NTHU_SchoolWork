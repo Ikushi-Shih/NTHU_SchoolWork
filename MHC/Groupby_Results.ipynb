{
 "cells": [
  {
   "cell_type": "code",
   "execution_count": 22,
   "metadata": {},
   "outputs": [],
   "source": [
    "import pandas as pd\n",
    "import numpy as np\n",
    "from sklearn.metrics import roc_auc_score\n",
    "from sklearn.preprocessing import LabelEncoder\n",
    "from math import log"
   ]
  },
  {
   "cell_type": "code",
   "execution_count": 19,
   "metadata": {},
   "outputs": [],
   "source": [
    "k1 = pd.read_csv('./Result/oof_test_1.csv')\n",
    "k2 = pd.read_csv('./Result/oof_test_2.csv')\n",
    "k3 = pd.read_csv('./Result/oof_test_3.csv')\n",
    "k4 = pd.read_csv('./Result/oof_test_4.csv')\n",
    "k5 = pd.read_csv('./Result/oof_test_5.csv')\n",
    "\n",
    "k = pd.concat([k1,k2,k3,k4,k5])\n",
    "\n",
    "reverse_hla = LabelEncoder()\n",
    "reverse_hla.classes_ = np.load('./Data/hla_encoder_classes.npy')\n",
    "  \n",
    "k['hla'] = reverse_hla.inverse_transform(k['hla'])"
   ]
  },
  {
   "cell_type": "code",
   "execution_count": 23,
   "metadata": {},
   "outputs": [],
   "source": [
    "k['aff'] = k['aff'].apply(lambda x: 1 if x >= (1-log (500)/log(50000)) else 0)"
   ]
  },
  {
   "cell_type": "code",
   "execution_count": 30,
   "metadata": {},
   "outputs": [],
   "source": [
    "alpha = k.groupby(['hla', 'peptide'])['oof_preds'].transform(max) == k['oof_preds']\n",
    "k = k[alpha]"
   ]
  },
  {
   "cell_type": "code",
   "execution_count": 42,
   "metadata": {},
   "outputs": [],
   "source": [
    "Scoring = {}\n",
    "for h in k['hla'].unique():\n",
    "  tmp = k[k['hla'] == h]\n",
    "  try:\n",
    "    score = roc_auc_score(tmp['aff'], tmp['oof_preds'])\n",
    "    Scoring[h] = [score]\n",
    "  except:\n",
    "    Scoring[h] = [np.nan]"
   ]
  },
  {
   "cell_type": "code",
   "execution_count": 43,
   "metadata": {},
   "outputs": [],
   "source": [
    "final_table = pd.DataFrame(Scoring).T\n",
    "#final_table"
   ]
  },
  {
   "cell_type": "code",
   "execution_count": null,
   "metadata": {},
   "outputs": [],
   "source": []
  }
 ],
 "metadata": {
  "kernelspec": {
   "display_name": "Python 3",
   "language": "python",
   "name": "python3"
  },
  "language_info": {
   "codemirror_mode": {
    "name": "ipython",
    "version": 3
   },
   "file_extension": ".py",
   "mimetype": "text/x-python",
   "name": "python",
   "nbconvert_exporter": "python",
   "pygments_lexer": "ipython3",
   "version": "3.6.5"
  }
 },
 "nbformat": 4,
 "nbformat_minor": 2
}
